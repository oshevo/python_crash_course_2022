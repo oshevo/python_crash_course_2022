{
 "cells": [
  {
   "cell_type": "code",
   "execution_count": 1,
   "metadata": {},
   "outputs": [
    {
     "name": "stdout",
     "output_type": "stream",
     "text": [
      "24\n"
     ]
    }
   ],
   "source": [
    "# Exercise 2-1 Simple Message\n",
    "\n",
    "my_age = 24\n",
    "print(my_age)"
   ]
  },
  {
   "cell_type": "code",
   "execution_count": 2,
   "metadata": {},
   "outputs": [
    {
     "name": "stdout",
     "output_type": "stream",
     "text": [
      "awful\n",
      "bearable\n"
     ]
    }
   ],
   "source": [
    "## Exercise 2-2 Simple Messages\n",
    "\n",
    "my_day = 'awful'\n",
    "print(my_day)\n",
    "\n",
    "my_day = 'bearable'\n",
    "print(my_day)"
   ]
  },
  {
   "cell_type": "code",
   "execution_count": 3,
   "metadata": {},
   "outputs": [
    {
     "name": "stdout",
     "output_type": "stream",
     "text": [
      "Hello olha babenko, how is Python learning going?\n"
     ]
    }
   ],
   "source": [
    "## Exercise 2-3 Personal Message\n",
    "\n",
    "name = 'olha babenko'\n",
    "\n",
    "print(f'Hello {name}, how is Python learning going?')\n",
    "\n",
    "# first_name = 'olha'\n",
    "# surname = 'babenko'\n",
    "# full_name = f'{first_name} {surname}'\n",
    "\n",
    "# print(f'Hello {full_name}, how is Python learning going?')"
   ]
  },
  {
   "cell_type": "code",
   "execution_count": 4,
   "metadata": {},
   "outputs": [
    {
     "name": "stdout",
     "output_type": "stream",
     "text": [
      "Olha Babenko\n",
      "OLHA BABENKO\n",
      "olha babenko\n"
     ]
    }
   ],
   "source": [
    "## Exercise 2-4 Name Cases\n",
    "\n",
    "name = 'olha babenko' # both announcing variable and giving the value to it\n",
    "\n",
    "print(name.title()) # title method, word begins with upper case\n",
    "print(name.upper()) # upper method, whole word is in upper case\n",
    "print(name.lower()) # lower method, whole word is in lower case"
   ]
  },
  {
   "cell_type": "code",
   "execution_count": 5,
   "metadata": {},
   "outputs": [
    {
     "name": "stdout",
     "output_type": "stream",
     "text": [
      "Epicurus once said, \"When we are, death is not come, and, when death is come, we are not.\"\n",
      "Epicurus once said, \"When we are, death is not come, and, when death is come, we are not.\"\n",
      "Epicurus once said, \"When we are, death is not come, and, when death is come, we are not.\"\n"
     ]
    }
   ],
   "source": [
    "# Exercise 2-5 Famous Quote\n",
    "\n",
    "# 1st way\n",
    "\n",
    "print('Epicurus once said, \"When we are, death is not come, and, when death is come, we are not.\"')\n",
    "\n",
    "# 2nd way\n",
    "\n",
    "quote = 'When we are, death is not come, and, when death is come, we are not.'\n",
    "author = 'Epicurus'\n",
    "\n",
    "print(f'{author} once said, \"{quote}\"')\n",
    "\n",
    "# 3rd way\n",
    "\n",
    "quotation = f'{author} once said, \"{quote}\"'\n",
    "\n",
    "print(quotation)"
   ]
  },
  {
   "cell_type": "code",
   "execution_count": 6,
   "metadata": {},
   "outputs": [
    {
     "name": "stdout",
     "output_type": "stream",
     "text": [
      "Epicurus once said, \"When we are, death is not come, and, when death is come, we are not.\"\n"
     ]
    }
   ],
   "source": [
    "# Exercise 2-6 Famous Quote 2\n",
    "\n",
    "famous_person = 'Epicurus'\n",
    "message = f'{famous_person} once said, \"When we are, death is not come, and, when death is come, we are not.\"'\n",
    "\n",
    "print(message)"
   ]
  },
  {
   "cell_type": "code",
   "execution_count": 7,
   "metadata": {},
   "outputs": [
    {
     "name": "stdout",
     "output_type": "stream",
     "text": [
      " \tOlha babenko\n",
      " \n",
      "Olha babenko\n",
      " \n",
      " \tOlha babenko\n",
      "Olha babenko\n"
     ]
    }
   ],
   "source": [
    "## Exercise 2-7 Stripping Names\n",
    "\n",
    "# program will strip the whitespaces from the string variable\n",
    "\n",
    "name = ' \\tOlha babenko\\n ' # announcing variable, adding value with neccesary requirements\n",
    "\n",
    "print(name) # printing the result\n",
    "\n",
    "print(name.lstrip()) # printing with deleting whitespaces on the left part\n",
    "print(name.rstrip()) # printing with deleting whitespaces on the right part\n",
    "print(name.strip()) # printing with deleting whitespaces from all the word"
   ]
  },
  {
   "cell_type": "code",
   "execution_count": 8,
   "metadata": {},
   "outputs": [
    {
     "name": "stdout",
     "output_type": "stream",
     "text": [
      "8\n",
      "8\n",
      "8.0\n",
      "8.0\n"
     ]
    }
   ],
   "source": [
    "# Exercise 2-8 Number Eight\n",
    "\n",
    "print(4 + 4)\n",
    "print(98 - 90)\n",
    "print(0.125 * 64)\n",
    "print(72 / 9)"
   ]
  },
  {
   "cell_type": "code",
   "execution_count": 9,
   "metadata": {},
   "outputs": [
    {
     "name": "stdout",
     "output_type": "stream",
     "text": [
      "My favourite number is 5.6.\n"
     ]
    }
   ],
   "source": [
    "# Exercise 2-9 Favourite Number\n",
    "\n",
    "favourite_number = 5.6\n",
    "message = f'My favourite number is {favourite_number}.'\n",
    "\n",
    "print(message)"
   ]
  }
 ],
 "metadata": {
  "kernelspec": {
   "display_name": "Python 3.10.2 64-bit",
   "language": "python",
   "name": "python3"
  },
  "language_info": {
   "codemirror_mode": {
    "name": "ipython",
    "version": 3
   },
   "file_extension": ".py",
   "mimetype": "text/x-python",
   "name": "python",
   "nbconvert_exporter": "python",
   "pygments_lexer": "ipython3",
   "version": "3.10.2"
  },
  "orig_nbformat": 4,
  "vscode": {
   "interpreter": {
    "hash": "aee8b7b246df8f9039afb4144a1f6fd8d2ca17a180786b69acc140d282b71a49"
   }
  }
 },
 "nbformat": 4,
 "nbformat_minor": 2
}
