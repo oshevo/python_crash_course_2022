{
 "cells": [
  {
   "cell_type": "code",
   "execution_count": 2,
   "metadata": {},
   "outputs": [
    {
     "name": "stdout",
     "output_type": "stream",
     "text": [
      "This chapter tells about Functions: what is it, how to use it and most importantly how to call it.\n"
     ]
    }
   ],
   "source": [
    "# Exercise 8-1 Message\n",
    "\n",
    "def display_message():\n",
    "    '''Display message'''\n",
    "    print('This chapter tells about Functions: what is it, how to use it',\n",
    "    'and most importantly how to call it.')\n",
    "\n",
    "display_message()"
   ]
  },
  {
   "cell_type": "code",
   "execution_count": 5,
   "metadata": {},
   "outputs": [
    {
     "name": "stdout",
     "output_type": "stream",
     "text": [
      "One of my favourite books is 1984.\n"
     ]
    }
   ],
   "source": [
    "# Exercise 8-2 Favorite Book\n",
    "\n",
    "def favourite_book(title):\n",
    "    '''Display favourite book title'''\n",
    "    title = str(title)\n",
    "    print(f'One of my favourite books is {title.title()}.')\n",
    "\n",
    "favourite_book(1984)"
   ]
  },
  {
   "cell_type": "code",
   "execution_count": 8,
   "metadata": {},
   "outputs": [
    {
     "name": "stdout",
     "output_type": "stream",
     "text": [
      "The t-shirt size: XS\n",
      "Printed text: i LOVE python\n",
      "\n",
      "The t-shirt size: XL\n",
      "Printed text: god bless python\n",
      "\n"
     ]
    }
   ],
   "source": [
    "# Exercise 8-3 T-Shirt\n",
    "\n",
    "def make_shirt(size, text):\n",
    "    '''Display t-shirt size and text on it'''\n",
    "    print(f'The t-shirt size: {size.upper()}\\nPrinted text: {text}\\n')\n",
    "\n",
    "make_shirt('xs', 'i LOVE python')\n",
    "make_shirt(size='xl', text='god bless python')"
   ]
  },
  {
   "cell_type": "code",
   "execution_count": 11,
   "metadata": {},
   "outputs": [
    {
     "name": "stdout",
     "output_type": "stream",
     "text": [
      "The t-shirt size: L\n",
      "Printed text: i love Python\n",
      "\n",
      "The t-shirt size: M\n",
      "Printed text: i love Python\n",
      "\n",
      "The t-shirt size: S\n",
      "Printed text: my life is an infinite while and you are a quit\n",
      "\n"
     ]
    }
   ],
   "source": [
    "# Exercise 8-4 Large Shirts\n",
    "\n",
    "def make_shirt(size='l', text='i love Python'):\n",
    "    '''Display t-shirt size and text on it'''\n",
    "    print(f'The t-shirt size: {size.upper()}\\nPrinted text: {text}\\n')\n",
    "\n",
    "make_shirt()\n",
    "make_shirt(size='m')\n",
    "make_shirt('s', 'my life is an infinite while and you are a quit')"
   ]
  },
  {
   "cell_type": "code",
   "execution_count": 12,
   "metadata": {},
   "outputs": [
    {
     "name": "stdout",
     "output_type": "stream",
     "text": [
      "Lviv is in Ukraine\n",
      "Kyiv is in Ukraine\n",
      "Belhorod is in Ukraine\n"
     ]
    }
   ],
   "source": [
    "# Exercise 8-5 Cities\n",
    "\n",
    "def describe_city(city, country='ukraine'):\n",
    "    '''Display city and its location'''\n",
    "    print(f'{city.title()} is in {country.capitalize()}')\n",
    "\n",
    "describe_city('lviv')\n",
    "describe_city(city='kyiv')\n",
    "describe_city('belhorod')"
   ]
  },
  {
   "cell_type": "code",
   "execution_count": 24,
   "metadata": {},
   "outputs": [
    {
     "name": "stdout",
     "output_type": "stream",
     "text": [
      "\"Kyiv, Ukraine\"\n",
      "\"Zagreb, Croaria\"\n",
      "\"Warsaw, Poland\"\n"
     ]
    }
   ],
   "source": [
    "# Exercise 8-6 City Names\n",
    "\n",
    "def city_country(city, country):\n",
    "    '''Return a city-country pair'''\n",
    "    pair = f'\"{city}, {country}\"'\n",
    "    return pair.title()\n",
    "\n",
    "pair_1 = city_country('kyiv', 'ukraine')\n",
    "pair_2 = city_country(city='zagreb', country='croaria')\n",
    "pair_3 = city_country(country='poland', city='warsaw')\n",
    "\n",
    "print(f'{pair_1}\\n{pair_2}\\n{pair_3}')"
   ]
  },
  {
   "cell_type": "code",
   "execution_count": 33,
   "metadata": {},
   "outputs": [
    {
     "name": "stdout",
     "output_type": "stream",
     "text": [
      "{'artist': 'frank ocean', 'album_title': 'blond'}\n",
      "{'artist': 'abba', 'album_title': 'arrived'}\n",
      "{'artist': 'lynyrd skynyrd', 'album_title': 'second helping'}\n",
      "{'artist': 'black pumas', 'album_title': 'black pumas', 'songs_quantity': '10'}\n"
     ]
    }
   ],
   "source": [
    "# Exercise 8-7 Album\n",
    "\n",
    "def make_album(artist, album_title, songs_quantity=None):\n",
    "    \"\"\"Return a dictionary of information about an album.\"\"\"\n",
    "    album = {'artist': artist, 'album_title': album_title}\n",
    "    if songs_quantity:\n",
    "        album['songs_quantity'] = songs_quantity\n",
    "    return album\n",
    "\n",
    "album_1 = make_album(artist='frank ocean', album_title='blond')\n",
    "album_2 = make_album(artist='abba', album_title='arrived')\n",
    "album_3 = make_album(artist='lynyrd skynyrd', album_title='second helping')\n",
    "print(f'{album_1}\\n{album_2}\\n{album_3}')\n",
    "\n",
    "album_4 = make_album(artist='black pumas', album_title='black pumas', \n",
    "    songs_quantity='10')\n",
    "print(f'{album_4}')"
   ]
  },
  {
   "cell_type": "code",
   "execution_count": 38,
   "metadata": {},
   "outputs": [
    {
     "name": "stdout",
     "output_type": "stream",
     "text": [
      "\n",
      "Tell me your favourire album\n",
      "(use \"q\" any time you want to quit)\n",
      "\n",
      "inputed value: blond\n",
      "inputed value: frank ocean\n",
      "{'artist': 'frank ocean', 'album_title': 'blond'}\n",
      "\n",
      "Tell me your favourire album\n",
      "(use \"q\" any time you want to quit)\n",
      "\n",
      "inputed value: q\n"
     ]
    }
   ],
   "source": [
    "# Exercise 8-8 User Albums\n",
    "\n",
    "def make_album(artist, album_title, songs_quantity=None):\n",
    "    \"\"\"Return a dictionary of information about an album.\"\"\"\n",
    "    album = {'artist': artist, 'album_title': album_title}\n",
    "    if songs_quantity:\n",
    "        album['songs_quantity'] = songs_quantity\n",
    "    return album\n",
    "\n",
    "while True:\n",
    "    print('\\nTell me your favourire album')\n",
    "    print('(use \"q\" any time you want to quit)\\n')\n",
    "\n",
    "    fav_album = input('Tell me your favourite album')\n",
    "    print(f'inputed value: {fav_album}')\n",
    "    if fav_album == 'q':\n",
    "        break\n",
    "    fav_artist = input('Who made this album?')\n",
    "    print(f'inputed value: {fav_artist}')\n",
    "    if fav_artist == 'q':\n",
    "        break\n",
    "\n",
    "    album_info = make_album(fav_artist, fav_album)\n",
    "    print(album_info)"
   ]
  }
 ],
 "metadata": {
  "kernelspec": {
   "display_name": "Python 3.10.2 ('crash_course': venv)",
   "language": "python",
   "name": "python3"
  },
  "language_info": {
   "codemirror_mode": {
    "name": "ipython",
    "version": 3
   },
   "file_extension": ".py",
   "mimetype": "text/x-python",
   "name": "python",
   "nbconvert_exporter": "python",
   "pygments_lexer": "ipython3",
   "version": "3.10.2"
  },
  "orig_nbformat": 4,
  "vscode": {
   "interpreter": {
    "hash": "92d70b3c83cbcfd49f70b821dd40a06c5fb19d42f9a6047ca58acd6c0d19bb3d"
   }
  }
 },
 "nbformat": 4,
 "nbformat_minor": 2
}
