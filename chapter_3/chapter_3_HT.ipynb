{
 "cells": [
  {
   "cell_type": "code",
   "execution_count": 26,
   "metadata": {},
   "outputs": [
    {
     "name": "stdout",
     "output_type": "stream",
     "text": [
      "daria\n",
      "dmytro\n",
      "vladyslav\n",
      "krešimir\n",
      "marko\n"
     ]
    }
   ],
   "source": [
    "# Exercise 3-1 Names\n",
    "\n",
    "names = ['daria', 'dmytro', 'vladyslav', 'krešimir', 'marko']\n",
    "\n",
    "print(names[0])\n",
    "print(names[1])\n",
    "print(names[2])\n",
    "print(names[3])\n",
    "print(names[-1])"
   ]
  },
  {
   "cell_type": "code",
   "execution_count": 27,
   "metadata": {},
   "outputs": [
    {
     "name": "stdout",
     "output_type": "stream",
     "text": [
      "See ya, Daria!\n",
      "See ya, Dmytro!\n",
      "See ya, Vladyslav!\n",
      "See ya, Krešimir!\n",
      "See ya, Marko!\n"
     ]
    }
   ],
   "source": [
    "# Exercise 3-2 Greetings\n",
    "\n",
    "names = ['Daria', 'Dmytro', 'Vladyslav', 'Krešimir', 'Marko']\n",
    "\n",
    "message_0 = f'See ya, {names[-5].title()}!'\n",
    "message_1 = f'See ya, {names[-4].title()}!'\n",
    "message_2 = f'See ya, {names[-3].title()}!'\n",
    "message_3 = f'See ya, {names[-2].title()}!'\n",
    "message_4 = f'See ya, {names[-1].title()}!'\n",
    "\n",
    "print(message_0)\n",
    "print(message_1)\n",
    "print(message_2)\n",
    "print(message_3)\n",
    "print(message_4)"
   ]
  },
  {
   "cell_type": "code",
   "execution_count": 28,
   "metadata": {},
   "outputs": [
    {
     "name": "stdout",
     "output_type": "stream",
     "text": [
      "i want to have Honda as my first car.\n",
      "i would like to buy Audi in a couple of years.\n",
      "Ford has got some pretty nice models.\n",
      "i think Volvo is one of the safest cars.\n"
     ]
    }
   ],
   "source": [
    "# Exercise 3-3 Your Own List\n",
    "\n",
    "cars = ['honda', 'audi', 'ford', 'volvo']\n",
    "\n",
    "print('i want to have ' + cars[0].title() + ' as my first car.')\n",
    "print(f'i would like to buy {cars[1].title()} in a couple of years.')\n",
    "print(cars[2].title() + ' has got some pretty nice models.')\n",
    "print(f'i think {cars[3].title()} is one of the safest cars.')"
   ]
  },
  {
   "cell_type": "code",
   "execution_count": 29,
   "metadata": {},
   "outputs": [
    {
     "name": "stdout",
     "output_type": "stream",
     "text": [
      "Good Lord, Nikola Tesla, you look so thin! Please, attend my dinner on Friday!\n",
      "Hi! Long time no see, Fritz Perls, let's have a chat about unclosed geshtalts of yours!\n",
      "Good to see you again, Grandmother! How is your sugar level?\n"
     ]
    }
   ],
   "source": [
    "# Exercise 3-4 Guest List\n",
    "\n",
    "guests = ['Nikola Tesla', 'Fritz Perls', 'Grandmother']\n",
    "\n",
    "message_0 = f'Good Lord, {guests[0]}, you look so thin! Please, attend my dinner on Friday!'\n",
    "message_1 = f\"Hi! Long time no see, {guests[1]}, let's have a chat about unclosed geshtalts of yours!\"\n",
    "message_2 = f'Good to see you again, {guests[2]}! How is your sugar level?'\n",
    "\n",
    "print(message_0)\n",
    "print(message_1)\n",
    "print(message_2)\n"
   ]
  },
  {
   "cell_type": "code",
   "execution_count": 30,
   "metadata": {},
   "outputs": [
    {
     "name": "stdout",
     "output_type": "stream",
     "text": [
      "Unfortunately, Fritz Perls won't make it in time!\n",
      "\n",
      "Good Lord, Nikola Tesla, you look so thin! Please, attend my dinner on Friday!\n",
      "Hi! How is your childhood traumas, Sigmund Freid? Don't tell me, we will have this chat at the dinner!\n",
      "Good to see you again, Grandmother! How is your sugar level?\n"
     ]
    }
   ],
   "source": [
    "# Exercise 3-5 Changing Guest List\n",
    "\n",
    "guests = ['Nikola Tesla', 'Fritz Perls', 'Grandmother']\n",
    "print(f\"Unfortunately, {guests[1]} won't make it in time!\\n\")\n",
    "\n",
    "guests[1] = 'Sigmund Freid'\n",
    "\n",
    "message_0 = f'Good Lord, {guests[0]}, you look so thin! Please, attend my dinner on Friday!'\n",
    "message_1 = f\"Hi! How is your childhood traumas, {guests[1]}? Don't tell me, we will have this chat at the dinner!\"\n",
    "message_2 = f'Good to see you again, {guests[2]}! How is your sugar level?'\n",
    "\n",
    "print(message_0)\n",
    "print(message_1)\n",
    "print(message_2)"
   ]
  },
  {
   "cell_type": "code",
   "execution_count": 31,
   "metadata": {},
   "outputs": [
    {
     "name": "stdout",
     "output_type": "stream",
     "text": [
      "Unfortunately, Fritz Perls won't make it in time!\n",
      "\n",
      "I have just found the bigger table!\n",
      "\n",
      "Well, it is not 17th century anymore, Hieronymus Bosch, we have very good food! Come on, dinner will be fine!\n",
      "Good Lord, Nikola Tesla, you look so thin! Please, attend my dinner on Friday!\n",
      "Do you have any new idea for you film? Anyway, Nicolas Winding Refn, we can talk about it during the dinner!\n",
      "Hi! How is your childhood traumas, Sigmund Freid? Don't tell me, we will have this chat at the dinner!\n",
      "Good to see you again, Grandmother! How is your sugar level?\n",
      "Jesus Christ, how you even manage your activism in 70s while being a person of color? Very good topic for the dinner you are invited to, Martin Luther King Jr.!\n"
     ]
    }
   ],
   "source": [
    "# Exercise 3-6 More Guests\n",
    "\n",
    "guests = ['Nikola Tesla', 'Fritz Perls', 'Grandmother']\n",
    "print(f\"Unfortunately, {guests[1]} won't make it in time!\\n\")\n",
    "\n",
    "guests[1] = 'Sigmund Freid'\n",
    "\n",
    "print('I have just found the bigger table!\\n')\n",
    "\n",
    "guests.insert(0, 'Hieronymus Bosch')\n",
    "guests.insert(2, 'Nicolas Winding Refn')\n",
    "guests.append('Martin Luther King Jr.')\n",
    "\n",
    "message_0 = f'Well, it is not 17th century anymore, {guests[0]}, we have very good food! Come on, dinner will be fine!'\n",
    "message_1 = f'Good Lord, {guests[1]}, you look so thin! Please, attend my dinner on Friday!'\n",
    "message_2 = f'Do you have any new idea for you film? Anyway, {guests[2]}, we can talk about it during the dinner!'\n",
    "message_3 = f\"Hi! How is your childhood traumas, {guests[3]}? Don't tell me, we will have this chat at the dinner!\"\n",
    "message_4 = f'Good to see you again, {guests[4]}! How is your sugar level?'\n",
    "message_5 = f'Jesus Christ, how you even manage your activism in 70s while being a person of color? Very good topic for the dinner you are invited to, {guests[5]}!'\n",
    "\n",
    "print(message_0)\n",
    "print(message_1)\n",
    "print(message_2)\n",
    "print(message_3)\n",
    "print(message_4)\n",
    "print(message_5)"
   ]
  }
 ],
 "metadata": {
  "kernelspec": {
   "display_name": "Python 3.10.2 64-bit",
   "language": "python",
   "name": "python3"
  },
  "language_info": {
   "codemirror_mode": {
    "name": "ipython",
    "version": 3
   },
   "file_extension": ".py",
   "mimetype": "text/x-python",
   "name": "python",
   "nbconvert_exporter": "python",
   "pygments_lexer": "ipython3",
   "version": "3.10.2"
  },
  "orig_nbformat": 4,
  "vscode": {
   "interpreter": {
    "hash": "aee8b7b246df8f9039afb4144a1f6fd8d2ca17a180786b69acc140d282b71a49"
   }
  }
 },
 "nbformat": 4,
 "nbformat_minor": 2
}
