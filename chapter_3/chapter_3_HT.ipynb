{
 "cells": [
  {
   "cell_type": "code",
   "execution_count": null,
   "metadata": {},
   "outputs": [],
   "source": [
    "# Exercise 3-1 Names\n",
    "\n",
    "names = ['daria', 'dmytro', 'vladyslav', 'krešimir', 'marko']\n",
    "\n",
    "print(names[0])\n",
    "print(names[1])\n",
    "print(names[2])\n",
    "print(names[3])\n",
    "print(names[-1])"
   ]
  },
  {
   "cell_type": "code",
   "execution_count": null,
   "metadata": {},
   "outputs": [],
   "source": [
    "# Exercise 3-2 Greetings\n",
    "\n",
    "names = ['Daria', 'Dmytro', 'Vladyslav', 'Krešimir', 'Marko']\n",
    "\n",
    "message_0 = f'See ya, {names[-5].title()}!'\n",
    "message_1 = f'See ya, {names[-4].title()}!'\n",
    "message_2 = f'See ya, {names[-3].title()}!'\n",
    "message_3 = f'See ya, {names[-2].title()}!'\n",
    "message_4 = f'See ya, {names[-1].title()}!'\n",
    "\n",
    "print(message_0)\n",
    "print(message_1)\n",
    "print(message_2)\n",
    "print(message_3)\n",
    "print(message_4)"
   ]
  },
  {
   "cell_type": "code",
   "execution_count": null,
   "metadata": {},
   "outputs": [],
   "source": [
    "# Exercise 3-3 Your Own List\n",
    "\n",
    "cars = ['honda', 'audi', 'ford', 'volvo']\n",
    "\n",
    "print('i want to have ' + cars[0].title() + ' as my first car.')\n",
    "print(f'i would like to buy {cars[1].title()} in a couple of years.')\n",
    "print(cars[2].title() + ' has got some pretty nice models.')\n",
    "print(f'i think {cars[3].title()} is one of the safest cars.')"
   ]
  },
  {
   "cell_type": "code",
   "execution_count": null,
   "metadata": {},
   "outputs": [],
   "source": [
    "# Exercise 3-4 Guest List\n",
    "\n",
    "guests = ['Nikola Tesla', 'Fritz Perls', 'Grandmother']\n",
    "\n",
    "message_0 = f'Good Lord, {guests[0]}, you look so thin! Please, attend my dinner on Friday!'\n",
    "message_1 = f\"Hi! Long time no see, {guests[1]}, let's have a chat about unclosed geshtalts of yours!\"\n",
    "message_2 = f'Good to see you again, {guests[2]}! How is your sugar level?'\n",
    "\n",
    "print(message_0)\n",
    "print(message_1)\n",
    "print(message_2)\n"
   ]
  },
  {
   "cell_type": "code",
   "execution_count": null,
   "metadata": {},
   "outputs": [],
   "source": [
    "# Exercise 3-5 Changing Guest List\n",
    "\n",
    "guests = ['Nikola Tesla', 'Fritz Perls', 'Grandmother']\n",
    "print(f\"Unfortunately, {guests[1]} won't make it in time!\\n\")\n",
    "\n",
    "guests[1] = 'Sigmund Freid'\n",
    "\n",
    "message_0 = f'Good Lord, {guests[0]}, you look so thin! Please, attend my dinner on Friday!'\n",
    "message_1 = f\"Hi! How is your childhood traumas, {guests[1]}? Don't tell me, we will have this chat at the dinner!\"\n",
    "message_2 = f'Good to see you again, {guests[2]}! How is your sugar level?'\n",
    "\n",
    "print(message_0)\n",
    "print(message_1)\n",
    "print(message_2)"
   ]
  },
  {
   "cell_type": "code",
   "execution_count": null,
   "metadata": {},
   "outputs": [],
   "source": [
    "# Exercise 3-6 More Guests\n",
    "\n",
    "guests = ['Nikola Tesla', 'Fritz Perls', 'Grandmother']\n",
    "print(f\"Unfortunately, {guests[1]} won't make it in time!\\n\")\n",
    "\n",
    "guests[1] = 'Sigmund Freid'\n",
    "\n",
    "print('I have just found the bigger table!\\n')\n",
    "\n",
    "guests.insert(0, 'Hieronymus Bosch')\n",
    "guests.insert(2, 'Nicolas Winding Refn')\n",
    "guests.append('Martin Luther King Jr.')\n",
    "\n",
    "message_0 = f'Well, it is not 17th century anymore, {guests[0]}, we have very good food! Come on, dinner will be fine!'\n",
    "message_1 = f'Good Lord, {guests[1]}, you look so thin! Please, attend my dinner on Friday!'\n",
    "message_2 = f'Do you have any new idea for you film? Anyway, {guests[2]}, we can talk about it during the dinner!'\n",
    "message_3 = f\"Hi! How is your childhood traumas, {guests[3]}? Don't tell me, we will have this chat at the dinner!\"\n",
    "message_4 = f'Good to see you again, {guests[4]}! How is your sugar level?'\n",
    "message_5 = f'Jesus Christ, how you even manage your activism in 70s while being a person of color? Very good topic for the dinner you are invited to, {guests[5]}!'\n",
    "\n",
    "print(message_0)\n",
    "print(message_1)\n",
    "print(message_2)\n",
    "print(message_3)\n",
    "print(message_4)\n",
    "print(message_5)"
   ]
  },
  {
   "cell_type": "code",
   "execution_count": null,
   "metadata": {},
   "outputs": [],
   "source": [
    "# Exercise 3-7 Shriking Guest List\n",
    "\n",
    "guests = ['Nikola Tesla', 'Fritz Perls', 'Grandmother']\n",
    "print(f\"Unfortunately, {guests[1]} won't make it in time!\\n\")\n",
    "\n",
    "guests[1] = 'Sigmund Freid'\n",
    "\n",
    "print('I have just found the bigger table!\\n')\n",
    "\n",
    "guests.insert(0, 'Hieronymus Bosch')\n",
    "guests.insert(2, 'Nicolas Winding Refn')\n",
    "guests.append('Martin Luther King Jr.')\n",
    "\n",
    "message_0 = f'Well, it is not 17th century anymore, {guests[0]}, we have very good food! Come on, dinner will be fine!'\n",
    "message_1 = f'Good Lord, {guests[1]}, you look so thin! Please, attend my dinner on Friday!'\n",
    "message_2 = f'Do you have any new idea for you film? Anyway, {guests[2]}, we can talk about it during the dinner!'\n",
    "message_3 = f\"Hi! How is your childhood traumas, {guests[3]}? Don't tell me, we will have this chat at the dinner!\"\n",
    "message_4 = f'Good to see you again, {guests[4]}! How is your sugar level?'\n",
    "message_5 = f'Jesus Christ, how you even manage your activism in 70s while being a person of color? Very good topic for the dinner you are invited to, {guests[5]}!\\n'\n",
    "\n",
    "print(message_0)\n",
    "print(message_1)\n",
    "print(message_2)\n",
    "print(message_3)\n",
    "print(message_4)\n",
    "print(message_5)\n",
    "\n",
    "print(\"Table won't make it in time, so i can invite only two people. Please, accept my sincere appologies!\\n\")\n",
    "\n",
    "non_guest_1 = guests.pop(0)\n",
    "non_guest_2 = guests.pop(0)\n",
    "non_guest_3 = guests.pop(1)\n",
    "non_guest_4 = guests.pop(1)\n",
    "\n",
    "print(f'{non_guest_1} was removed from the list...\\n')\n",
    "print(non_guest_2 + ' was banned from the community...\\n')\n",
    "print(f'{non_guest_3} are dead...\\n')\n",
    "print(non_guest_4 + ' is a bad person...\\n')\n",
    "\n",
    "print(f'You are still invited, {guests[0]}')\n",
    "print(guests[1] + ' see you ar the dinner, mate!\\n')\n",
    "\n",
    "del guests[0]\n",
    "del guests[0]\n",
    "\n",
    "print(guests)"
   ]
  },
  {
   "cell_type": "code",
   "execution_count": 58,
   "metadata": {},
   "outputs": [
    {
     "name": "stdout",
     "output_type": "stream",
     "text": [
      "['Florence', 'The Faroe Islands', 'New York', 'Barcelona', 'The Grand Canyon', 'Norway', 'Amsterdam', 'Phuket']\n",
      "['Amsterdam', 'Barcelona', 'Florence', 'New York', 'Norway', 'Phuket', 'The Faroe Islands', 'The Grand Canyon']\n",
      "\n",
      "Original list: ['Florence', 'The Faroe Islands', 'New York', 'Barcelona', 'The Grand Canyon', 'Norway', 'Amsterdam', 'Phuket']\n",
      "\n",
      "['The Grand Canyon', 'The Faroe Islands', 'Phuket', 'Norway', 'New York', 'Florence', 'Barcelona', 'Amsterdam']\n",
      "\n",
      "Original list again: ['Florence', 'The Faroe Islands', 'New York', 'Barcelona', 'The Grand Canyon', 'Norway', 'Amsterdam', 'Phuket']\n",
      "\n",
      "['Phuket', 'Amsterdam', 'Norway', 'The Grand Canyon', 'Barcelona', 'New York', 'The Faroe Islands', 'Florence']\n",
      "['Florence', 'The Faroe Islands', 'New York', 'Barcelona', 'The Grand Canyon', 'Norway', 'Amsterdam', 'Phuket']\n",
      "['Amsterdam', 'Barcelona', 'Florence', 'New York', 'Norway', 'Phuket', 'The Faroe Islands', 'The Grand Canyon']\n",
      "['The Grand Canyon', 'The Faroe Islands', 'Phuket', 'Norway', 'New York', 'Florence', 'Barcelona', 'Amsterdam']\n"
     ]
    }
   ],
   "source": [
    "# Exercise 3-8 Seeing the World\n",
    "\n",
    "locations = ['Florence', 'The Faroe Islands', 'New York', 'Barcelona', 'The Grand Canyon', 'Norway', 'Amsterdam', 'Phuket']\n",
    "print(locations)\n",
    "\n",
    "print(sorted(locations))    # sorting temporarily\n",
    "print(f'\\nOriginal list: {locations}\\n')\n",
    "\n",
    "print(sorted(locations, reverse=True))    # sorting in reverse tem\n",
    "print(f'\\nOriginal list again: {locations}\\n')\n",
    "\n",
    "locations.reverse()    # permanent reverse\n",
    "print(locations)\n",
    "\n",
    "locations.reverse()    # permanent reverse of reverse\n",
    "print(locations)\n",
    "\n",
    "locations.sort()    # permanent sorting\n",
    "print(locations)\n",
    "\n",
    "locations.sort(reverse=True)    # permanent reversed sorting\n",
    "print(locations)"
   ]
  },
  {
   "cell_type": "code",
   "execution_count": 59,
   "metadata": {},
   "outputs": [
    {
     "name": "stdout",
     "output_type": "stream",
     "text": [
      "Good Lord, Nikola Tesla, you look so thin! Please, attend my dinner on Friday!\n",
      "Hi! Long time no see, Fritz Perls, let's have a chat about unclosed geshtalts of yours!\n",
      "Good to see you again, Grandmother! How is your sugar level?\n",
      "\n",
      "To the dinner were invited 3 people.\n"
     ]
    }
   ],
   "source": [
    "# Exercise 3-9 Dinner Guests\n",
    "\n",
    "guests = ['Nikola Tesla', 'Fritz Perls', 'Grandmother']\n",
    "\n",
    "message_0 = f'Good Lord, {guests[0]}, you look so thin! Please, attend my dinner on Friday!'\n",
    "message_1 = f\"Hi! Long time no see, {guests[1]}, let's have a chat about unclosed geshtalts of yours!\"\n",
    "message_2 = f'Good to see you again, {guests[2]}! How is your sugar level?'\n",
    "\n",
    "print(message_0)\n",
    "print(message_1)\n",
    "print(message_2)\n",
    "\n",
    "print(f'\\nTo the dinner were invited {len(guests)} people.')"
   ]
  },
  {
   "cell_type": "code",
   "execution_count": 60,
   "metadata": {},
   "outputs": [
    {
     "name": "stdout",
     "output_type": "stream",
     "text": [
      "['ring', 'bracelet', 'earings', 'watch', 'glasses', 'parfume', 'laptop', 'earpods']\n",
      "['ring', 'bracelet', 'earings', 'watch', 'glasses', 'parfume', 'laptop', 'earpods', 'phone']\n",
      "['ring', 'bracelet', 'necklace', 'earings', 'watch', 'glasses', 'parfume', 'laptop', 'earpods', 'phone']\n",
      "['ring', 'bracelet', 'necklace', 'earings', 'watch', 'glasses', 'laptop', 'earpods', 'phone']\n",
      "\n",
      "i have lost my Earpods\n",
      "['ring', 'bracelet', 'necklace', 'earings', 'watch', 'glasses', 'laptop', 'phone']\n",
      "\n",
      "unfortunately, i accidentally broke my bracelet\n",
      "['ring', 'necklace', 'earings', 'watch', 'glasses', 'laptop', 'phone']\n",
      "['earings', 'glasses', 'laptop', 'necklace', 'phone', 'ring', 'watch']\n",
      "['watch', 'ring', 'phone', 'necklace', 'laptop', 'glasses', 'earings']\n",
      "['phone', 'laptop', 'glasses', 'watch', 'earings', 'necklace', 'ring']\n",
      "['watch', 'ring', 'phone', 'necklace', 'laptop', 'glasses', 'earings']\n",
      "\n",
      "i have at least 7 items with myself.\n"
     ]
    }
   ],
   "source": [
    "# Exercise 3-10 Every Function\n",
    "\n",
    "jewelry = ['ring', 'bracelet', 'earings']\n",
    "accessories = ['watch', 'glasses', 'parfume']\n",
    "tech = ['laptop', 'earpods']\n",
    "\n",
    "belongins = jewelry + accessories + tech    # create a full list\n",
    "print(belongins)\n",
    "\n",
    "belongins.append('phone')    # add a new element to the list\n",
    "print(belongins)\n",
    "\n",
    "belongins.insert(2, 'necklace')    # add one more element\n",
    "print(belongins)\n",
    "\n",
    "del belongins[6]    # permanent deleting of an element\n",
    "print(belongins)\n",
    "\n",
    "lost_item = belongins.pop(-2)    # popping an element and storing it into variable\n",
    "print(f'\\ni have lost my {lost_item.title()}')\n",
    "print(belongins)\n",
    "\n",
    "broken_item = 'bracelet'\n",
    "belongins.remove(broken_item)    # remove via value\n",
    "print(f'\\nunfortunately, i accidentally broke my {broken_item}')\n",
    "print(belongins)\n",
    "\n",
    "print(sorted(belongins))    # temporary sorting\n",
    "print(sorted(belongins, reverse=True))    # temporary reversed sorting\n",
    "\n",
    "belongins.reverse()    # permanent reversing of the list\n",
    "print(belongins)\n",
    "\n",
    "belongins.sort(reverse=True)    # permanent reversed sorting of the list in alphabetic order\n",
    "print(belongins)\n",
    "\n",
    "items_amount = len(belongins)    # list lenght\n",
    "print('\\ni have at least ' + str(items_amount) + ' items with myself.')"
   ]
  },
  {
   "cell_type": "code",
   "execution_count": 61,
   "metadata": {},
   "outputs": [
    {
     "ename": "IndexError",
     "evalue": "list assignment index out of range",
     "output_type": "error",
     "traceback": [
      "\u001b[0;31m---------------------------------------------------------------------------\u001b[0m",
      "\u001b[0;31mIndexError\u001b[0m                                Traceback (most recent call last)",
      "\u001b[1;32m/Users/olhababenko/Documents/projects/crash_course/chapter_3/chapter_3_HT.ipynb Cell 11\u001b[0m in \u001b[0;36m<cell line: 4>\u001b[0;34m()\u001b[0m\n\u001b[1;32m      <a href='vscode-notebook-cell:/Users/olhababenko/Documents/projects/crash_course/chapter_3/chapter_3_HT.ipynb#X13sZmlsZQ%3D%3D?line=0'>1</a>\u001b[0m \u001b[39m# Exercise 3-11 Intentional Error\u001b[39;00m\n\u001b[1;32m      <a href='vscode-notebook-cell:/Users/olhababenko/Documents/projects/crash_course/chapter_3/chapter_3_HT.ipynb#X13sZmlsZQ%3D%3D?line=2'>3</a>\u001b[0m jewelry \u001b[39m=\u001b[39m [\u001b[39m'\u001b[39m\u001b[39mring\u001b[39m\u001b[39m'\u001b[39m, \u001b[39m'\u001b[39m\u001b[39mbracelet\u001b[39m\u001b[39m'\u001b[39m, \u001b[39m'\u001b[39m\u001b[39mearings\u001b[39m\u001b[39m'\u001b[39m] \u001b[39m# create a full list\u001b[39;00m\n\u001b[0;32m----> <a href='vscode-notebook-cell:/Users/olhababenko/Documents/projects/crash_course/chapter_3/chapter_3_HT.ipynb#X13sZmlsZQ%3D%3D?line=3'>4</a>\u001b[0m \u001b[39mdel\u001b[39;00m jewelry[\u001b[39m3\u001b[39m]\n",
      "\u001b[0;31mIndexError\u001b[0m: list assignment index out of range"
     ]
    }
   ],
   "source": [
    "# Exercise 3-11 Intentional Error\n",
    "\n",
    "jewelry = ['ring', 'bracelet', 'earings']    # create a full list\n",
    "del jewelry[3]"
   ]
  }
 ],
 "metadata": {
  "kernelspec": {
   "display_name": "Python 3.10.2 64-bit",
   "language": "python",
   "name": "python3"
  },
  "language_info": {
   "codemirror_mode": {
    "name": "ipython",
    "version": 3
   },
   "file_extension": ".py",
   "mimetype": "text/x-python",
   "name": "python",
   "nbconvert_exporter": "python",
   "pygments_lexer": "ipython3",
   "version": "3.10.2"
  },
  "orig_nbformat": 4,
  "vscode": {
   "interpreter": {
    "hash": "aee8b7b246df8f9039afb4144a1f6fd8d2ca17a180786b69acc140d282b71a49"
   }
  }
 },
 "nbformat": 4,
 "nbformat_minor": 2
}
