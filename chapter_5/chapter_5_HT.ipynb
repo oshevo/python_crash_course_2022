{
 "cells": [
  {
   "cell_type": "code",
   "execution_count": 28,
   "metadata": {},
   "outputs": [
    {
     "name": "stdout",
     "output_type": "stream",
     "text": [
      "Is peperoni my favourite pizza?\n",
      "True\n",
      "Is peperoni my friend's favourite pizza?\n",
      "True\n",
      "\n",
      "We don't like the same pizza, do we?\n",
      "True\n",
      "Is capriciosa my favourite pizza?\n",
      "False\n",
      "\n",
      "Is my number more than 23?\n",
      "True\n",
      "Is my number bigger than my friend`s?\n",
      "False\n",
      "Is my number equal to 71?\n",
      "False\n",
      "\n",
      "Is my number between 30 and 50?\n",
      "False\n",
      "Is my friend`s number more than 10 or more than 20?\n",
      "False\n",
      "Is my friend`s number not equal to mine?\n",
      "True\n",
      "\n",
      "Is number 14 in the list?\n",
      "True\n",
      "Is number 8 in the list?\n",
      "False\n"
     ]
    }
   ],
   "source": [
    "# Exercise 5-1, 5-2 Cinditional Tests, More Conditional Tests\n",
    "\n",
    "my_pizza = 'peperoni'\n",
    "friend_pizza = 'Vesuvio'\n",
    "\n",
    "print('Is peperoni my favourite pizza?')\n",
    "print(my_pizza.lower() == 'peperoni')\n",
    "\n",
    "print(\"Is peperoni my friend's favourite pizza?\")\n",
    "print(friend_pizza.lower() == 'vesuvio')\n",
    "\n",
    "print(\"\\nWe don't like the same pizza, do we?\")\n",
    "print(friend_pizza.lower() != friend_pizza)\n",
    "\n",
    "print('Is capriciosa my favourite pizza?')\n",
    "print(my_pizza.lower() == 'capriciosa')\n",
    "\n",
    "my_number = 37\n",
    "friend_number = 5\n",
    "\n",
    "print('\\nIs my number more than 23?')\n",
    "print(my_number > 23)\n",
    "\n",
    "print('Is my number bigger than my friend`s?')\n",
    "print(my_number < friend_number)\n",
    "\n",
    "print('Is my number equal to 71?')\n",
    "print(my_number == 71)\n",
    "\n",
    "print('\\nIs my number between 30 and 50?')\n",
    "print(my_number <= 30 and my_number >= 50)\n",
    "\n",
    "print('Is my friend`s number more than 10 or more than 20?')\n",
    "print(friend_number > 10 or friend_number > 20)\n",
    "\n",
    "print('Is my friend`s number not equal to mine?')\n",
    "print(my_number != friend_number)\n",
    "\n",
    "numbers = [value*2 for value in range(1, 8, 2)]\n",
    "print('\\nIs number 14 in the list?')\n",
    "print(14 in numbers)\n",
    "\n",
    "print('Is number 8 in the list?')\n",
    "print(8 in numbers)"
   ]
  },
  {
   "cell_type": "code",
   "execution_count": null,
   "metadata": {},
   "outputs": [],
   "source": []
  }
 ],
 "metadata": {
  "kernelspec": {
   "display_name": "Python 3.10.2 64-bit",
   "language": "python",
   "name": "python3"
  },
  "language_info": {
   "codemirror_mode": {
    "name": "ipython",
    "version": 3
   },
   "file_extension": ".py",
   "mimetype": "text/x-python",
   "name": "python",
   "nbconvert_exporter": "python",
   "pygments_lexer": "ipython3",
   "version": "3.10.2"
  },
  "orig_nbformat": 4,
  "vscode": {
   "interpreter": {
    "hash": "aee8b7b246df8f9039afb4144a1f6fd8d2ca17a180786b69acc140d282b71a49"
   }
  }
 },
 "nbformat": 4,
 "nbformat_minor": 2
}
