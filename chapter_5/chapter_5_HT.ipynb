{
 "cells": [
  {
   "cell_type": "code",
   "execution_count": 38,
   "metadata": {},
   "outputs": [
    {
     "name": "stdout",
     "output_type": "stream",
     "text": [
      "Is peperoni my favourite pizza?\n",
      "True\n",
      "Is peperoni my friend's favourite pizza?\n",
      "True\n",
      "\n",
      "We don't like the same pizza, do we?\n",
      "True\n",
      "Is capriciosa my favourite pizza?\n",
      "False\n",
      "\n",
      "Is my number more than 23?\n",
      "True\n",
      "Is my number bigger than my friend`s?\n",
      "False\n",
      "Is my number equal to 71?\n",
      "False\n",
      "\n",
      "Is my number between 30 and 50?\n",
      "False\n",
      "Is my friend`s number more than 10 or more than 20?\n",
      "False\n",
      "Is my friend`s number not equal to mine?\n",
      "True\n",
      "\n",
      "Is number 14 in the list?\n",
      "True\n",
      "Is number 8 in the list?\n",
      "False\n"
     ]
    }
   ],
   "source": [
    "# Exercise 5-1, 5-2 Cinditional Tests, More Conditional Tests\n",
    "\n",
    "my_pizza = 'peperoni'\n",
    "friend_pizza = 'Vesuvio'\n",
    "\n",
    "print('Is peperoni my favourite pizza?')\n",
    "print(my_pizza.lower() == 'peperoni')\n",
    "\n",
    "print(\"Is peperoni my friend's favourite pizza?\")\n",
    "print(friend_pizza.lower() == 'vesuvio')\n",
    "\n",
    "print(\"\\nWe don't like the same pizza, do we?\")\n",
    "print(friend_pizza.lower() != friend_pizza)\n",
    "\n",
    "print('Is capriciosa my favourite pizza?')\n",
    "print(my_pizza.lower() == 'capriciosa')\n",
    "\n",
    "my_number = 37\n",
    "friend_number = 5\n",
    "\n",
    "print('\\nIs my number more than 23?')\n",
    "print(my_number > 23)\n",
    "\n",
    "print('Is my number bigger than my friend`s?')\n",
    "print(my_number < friend_number)\n",
    "\n",
    "print('Is my number equal to 71?')\n",
    "print(my_number == 71)\n",
    "\n",
    "print('\\nIs my number between 30 and 50?')\n",
    "print(my_number <= 30 and my_number >= 50)\n",
    "\n",
    "print('Is my friend`s number more than 10 or more than 20?')\n",
    "print(friend_number > 10 or friend_number > 20)\n",
    "\n",
    "print('Is my friend`s number not equal to mine?')\n",
    "print(my_number != friend_number)\n",
    "\n",
    "numbers = [value*2 for value in range(1, 8, 2)]\n",
    "print('\\nIs number 14 in the list?')\n",
    "print(14 in numbers)\n",
    "\n",
    "print('Is number 8 in the list?')\n",
    "print(8 in numbers)"
   ]
  },
  {
   "cell_type": "code",
   "execution_count": 39,
   "metadata": {},
   "outputs": [
    {
     "name": "stdout",
     "output_type": "stream",
     "text": [
      "You have earned 5 points!\n"
     ]
    }
   ],
   "source": [
    "# Exercise 5-3 Alien Colors #1\n",
    "\n",
    "alien_color = 'yellow'\n",
    "\n",
    "if alien_color == 'yellow':\n",
    "    print ('You have earned 5 points!')\n",
    "\n",
    "if alien_color == 'green':\n",
    "    print ('You have earned 15 points!')"
   ]
  },
  {
   "cell_type": "code",
   "execution_count": 40,
   "metadata": {},
   "outputs": [
    {
     "name": "stdout",
     "output_type": "stream",
     "text": [
      "You have earned 5 points!\n",
      "You have earned 5 points!\n"
     ]
    }
   ],
   "source": [
    "# Exercise 5-4 Alien Colors #2\n",
    "\n",
    "alien_color = 'green'\n",
    "\n",
    "## 1st version\n",
    "if alien_color == 'green':\n",
    "    print('You have earned 5 points!')\n",
    "if alien_color != 'green':\n",
    "    print('You have earned 10 points!')\n",
    "\n",
    "## 2nd version\n",
    "if alien_color == 'green':\n",
    "    print('You have earned 5 points!')\n",
    "else:\n",
    "    print('You have earned 10 points!')"
   ]
  },
  {
   "cell_type": "code",
   "execution_count": 41,
   "metadata": {},
   "outputs": [
    {
     "name": "stdout",
     "output_type": "stream",
     "text": [
      "You have earned 5 points!\n",
      "You have earned 10 points!\n",
      "You have earned 15 points!\n"
     ]
    }
   ],
   "source": [
    "# Exercise 5-5 Alien Colors #3\n",
    "\n",
    "## 1st version\n",
    "alien_color = 'green'\n",
    "\n",
    "if alien_color == 'green':\n",
    "    points = 5\n",
    "elif alien_color == 'yellow':\n",
    "    points = 10\n",
    "else:\n",
    "    points = 15\n",
    "\n",
    "print(f'You have earned {points} points!')\n",
    "\n",
    "\n",
    "## 2nd version\n",
    "alien_color = 'yellow'\n",
    "\n",
    "if alien_color == 'green':\n",
    "    points = 5\n",
    "elif alien_color == 'yellow':\n",
    "    points = 10\n",
    "else:\n",
    "    points = 15\n",
    "\n",
    "print(f'You have earned {points} points!')\n",
    "\n",
    "\n",
    "## 3rd version\n",
    "alien_color = 'red'\n",
    "\n",
    "if alien_color == 'green':\n",
    "    points = 5\n",
    "elif alien_color == 'yellow':\n",
    "    points = 10\n",
    "else:\n",
    "    points = 15\n",
    "\n",
    "print(f'You have earned {points} points!')\n"
   ]
  },
  {
   "cell_type": "code",
   "execution_count": 42,
   "metadata": {},
   "outputs": [
    {
     "name": "stdout",
     "output_type": "stream",
     "text": [
      "You are an adult.\n"
     ]
    }
   ],
   "source": [
    "# Esercise 5-6 Stages of Life\n",
    "\n",
    "age = 24\n",
    "\n",
    "if age < 2:\n",
    "    stage = 'a baby'\n",
    "elif 2 <= age < 4:\n",
    "    stage = 'a toddler'\n",
    "elif 4 <= age < 13:\n",
    "    stage = 'a kid'\n",
    "elif 13 <= age < 20:\n",
    "    stage = 'a teenager'\n",
    "elif 20 <= age < 65:\n",
    "    stage = 'an adult'\n",
    "else:\n",
    "    stage = 'an elder'\n",
    "\n",
    "print(f'You are {stage}.')"
   ]
  },
  {
   "cell_type": "code",
   "execution_count": 43,
   "metadata": {},
   "outputs": [
    {
     "name": "stdout",
     "output_type": "stream",
     "text": [
      "Jesus Christ, your favourite fruit is mango!\n",
      "OMG, unbelievable! Who on Earth like strawberry?\n"
     ]
    }
   ],
   "source": [
    "# Exercise 5-7 Favorite Fruit\n",
    "\n",
    "favourite_fruit = ['mango', 'strawberry', 'blueberry']\n",
    "\n",
    "if 'mango' in favourite_fruit:\n",
    "    print(f'Jesus Christ, your favourite fruit is mango!')\n",
    "if 'banana' in favourite_fruit:\n",
    "    print(f'Are you insane? I bet you do, cause your favourite fruit is banana')\n",
    "if 'raspberry' in favourite_fruit:\n",
    "    print(f'You can`t be serious! Is raspberry your favourite fruit?')\n",
    "if 'apple' in favourite_fruit:\n",
    "    print(f'I`ll never talk to you again, cause your favourite fruit is apple!')\n",
    "if 'strawberry' in favourite_fruit:\n",
    "    print(f'OMG, unbelievable! Who on Earth like strawberry?')"
   ]
  },
  {
   "cell_type": "code",
   "execution_count": 44,
   "metadata": {},
   "outputs": [
    {
     "name": "stdout",
     "output_type": "stream",
     "text": [
      "Hello admin, would you like to see a status report?\n",
      "Hello Olha, thank you for logging in!\n",
      "Hello Nataliia, thank you for logging in!\n",
      "Hello Ivan, thank you for logging in!\n",
      "Hello Anna, thank you for logging in!\n",
      "Hello Oksana, thank you for logging in!\n",
      "Hello Roman, thank you for logging in!\n"
     ]
    }
   ],
   "source": [
    "# Exercise 5-8 Hello Admin\n",
    "\n",
    "usernames = ['admin', 'olha', 'nataliia', 'ivan', 'anna', 'oksana', 'roman']\n",
    "\n",
    "for username in usernames:\n",
    "    if username == 'admin':\n",
    "        print(f'Hello {username}, would you like to see a status report?')\n",
    "    else:\n",
    "        print(f'Hello {username.capitalize()}, thank you for logging in!')"
   ]
  },
  {
   "cell_type": "code",
   "execution_count": 45,
   "metadata": {},
   "outputs": [
    {
     "name": "stdout",
     "output_type": "stream",
     "text": [
      "We need to find some users!\n"
     ]
    }
   ],
   "source": [
    "# Exercise 5-9 No Users\n",
    "\n",
    "# usernames = ['admin', 'olha', 'nataliia', 'ivan', 'anna', 'oksana', 'roman']\n",
    "usernames = []\n",
    "\n",
    "if usernames:\n",
    "    for username in usernames:\n",
    "        if username == 'admin':\n",
    "            print(f'Hello {username}, would you like to see a status report?')\n",
    "        else:\n",
    "            print(f'Hello {username.capitalize()}, thank you for logging in!')\n",
    "else:\n",
    "    print('We need to find some users!') "
   ]
  },
  {
   "cell_type": "code",
   "execution_count": 46,
   "metadata": {},
   "outputs": [
    {
     "name": "stdout",
     "output_type": "stream",
     "text": [
      "\"demon\" is available!\n",
      "\"albert\" is available!\n",
      "\"beauty\" is unavailable. Please, create new username.\n",
      "\"beast\" is available!\n",
      "\"BADASS\" is unavailable. Please, create new username.\n"
     ]
    }
   ],
   "source": [
    "# Exercise 5-10 hecking Usernames\n",
    "\n",
    "current_users = ['Angel', 'the_pooh', 'lollipop69', 'your_crush',\n",
    "                 'devil_himself', 'Beauty', 'badass']\n",
    "\n",
    "current_users = [current_user.lower() for current_user in current_users]\n",
    "\n",
    "new_users = ['demon', 'albert', 'beauty', 'beast', 'BADASS']\n",
    "\n",
    "for new_user in new_users:\n",
    "    if new_user.lower() in current_users:\n",
    "        print(f'\"{new_user}\" is unavailable. Please, create new username.')\n",
    "    else:\n",
    "        print(f'\"{new_user}\" is available!')"
   ]
  },
  {
   "cell_type": "code",
   "execution_count": 47,
   "metadata": {},
   "outputs": [
    {
     "name": "stdout",
     "output_type": "stream",
     "text": [
      "1st\n",
      "2nd\n",
      "3rd\n",
      "4th\n",
      "5th\n",
      "6th\n",
      "7th\n",
      "8th\n",
      "9th\n"
     ]
    }
   ],
   "source": [
    "# Exercise 5-11 Ordinal Numbers\n",
    "\n",
    "ordinary_numbers = list(range(1,10))\n",
    "\n",
    "for ordinary_number in ordinary_numbers:\n",
    "    if ordinary_number == 1:\n",
    "        print(f'{ordinary_number}st')\n",
    "    elif ordinary_number == 2:\n",
    "        print(f'{ordinary_number}nd')\n",
    "    elif ordinary_number == 3:\n",
    "        print(f'{ordinary_number}rd')\n",
    "    else:\n",
    "        print(f'{ordinary_number}th')"
   ]
  }
 ],
 "metadata": {
  "kernelspec": {
   "display_name": "Python 3.10.2 64-bit",
   "language": "python",
   "name": "python3"
  },
  "language_info": {
   "codemirror_mode": {
    "name": "ipython",
    "version": 3
   },
   "file_extension": ".py",
   "mimetype": "text/x-python",
   "name": "python",
   "nbconvert_exporter": "python",
   "pygments_lexer": "ipython3",
   "version": "3.10.2"
  },
  "orig_nbformat": 4,
  "vscode": {
   "interpreter": {
    "hash": "aee8b7b246df8f9039afb4144a1f6fd8d2ca17a180786b69acc140d282b71a49"
   }
  }
 },
 "nbformat": 4,
 "nbformat_minor": 2
}
