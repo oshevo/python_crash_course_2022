{
 "cells": [
  {
   "cell_type": "code",
   "execution_count": 10,
   "metadata": {},
   "outputs": [
    {
     "name": "stdout",
     "output_type": "stream",
     "text": [
      "Dasha\n",
      "Reheta\n",
      "24\n",
      "Kyiv\n"
     ]
    }
   ],
   "source": [
    "# Exercise 6-1 Person\n",
    "\n",
    "person = {\n",
    "    'name': 'dasha',\n",
    "    'surname': 'reheta',\n",
    "    'age': 24,\n",
    "    'city': 'Kyiv'\n",
    "    }\n",
    "\n",
    "print(person['name'].title())\n",
    "print(person['surname'].title())\n",
    "print(person['age'])\n",
    "print(person['city'].title())"
   ]
  },
  {
   "cell_type": "code",
   "execution_count": 13,
   "metadata": {},
   "outputs": [
    {
     "name": "stdout",
     "output_type": "stream",
     "text": [
      "Dasha`s favourite number is 62\n",
      "Natasha`s favourite number is 8\n",
      "Ivan`s favourite number is 69\n",
      "Dima`s favourite number is 124\n",
      "Marko`s favourite number is 1\n"
     ]
    }
   ],
   "source": [
    "# Exercise 6-2 Favourite Numbers\n",
    "\n",
    "favourite_numbers = {\n",
    "    'dasha': 62,\n",
    "    'natasha': 8,\n",
    "    'ivan': 69,\n",
    "    'dima': 124,\n",
    "    'marko': 1}\n",
    "\n",
    "for name, number in favourite_numbers.items():\n",
    "    print(f'{name.capitalize()}`s favourite number is {number}')"
   ]
  },
  {
   "cell_type": "code",
   "execution_count": 24,
   "metadata": {},
   "outputs": [
    {
     "name": "stdout",
     "output_type": "stream",
     "text": [
      "| A dictionary | \n",
      "\tis a collection of key-value pairs\n",
      "| A tuple | \n",
      "\tis an immutable list\n",
      "| A traceback | \n",
      "\tis an error report\n",
      "| A directory | \n",
      "\tis a collection of files and subdirectories\n",
      "| A value | \n",
      "\tis the information associated with that variable\n"
     ]
    }
   ],
   "source": [
    "# Exercise 6-3 Glossary\n",
    "\n",
    "glossary = {\n",
    "    'dictionary': 'is a collection of key-value pairs',\n",
    "    'tuple': 'is an immutable list',\n",
    "    'traceback': 'is an error report',\n",
    "    'directory': 'is a collection of files and subdirectories',\n",
    "    'value': 'is the information associated with that variable',\n",
    "    }\n",
    "\n",
    "for word, definition in glossary.items():\n",
    "    print(f'| A {word} | \\n\\t{definition}')"
   ]
  },
  {
   "cell_type": "code",
   "execution_count": 28,
   "metadata": {},
   "outputs": [
    {
     "name": "stdout",
     "output_type": "stream",
     "text": [
      "| A dictionary | \n",
      "\tis a collection of key-value pairs\n",
      "| A tuple | \n",
      "\tis an immutable list\n",
      "| A traceback | \n",
      "\tis an error report\n",
      "| A directory | \n",
      "\tis a collection of files and subdirectories\n",
      "| A value | \n",
      "\tis the information associated with that variable\n",
      "| A string | \n",
      "\tis a series of characters\n",
      "| A method | \n",
      "\tis an action that Python can perform on a piece of data\n",
      "| A whitespace | \n",
      "\tis any nonprinting character, such as spaces, tabs, etc.\n",
      "| A index | \n",
      "\tis the position of the element into list\n",
      "| A list comprehension | \n",
      "\tis a way to generate a list in one line of code\n"
     ]
    }
   ],
   "source": [
    "# Exercise 6-4 Glossary 2\n",
    "\n",
    "glossary = {\n",
    "    'dictionary': 'is a collection of key-value pairs',\n",
    "    'tuple': 'is an immutable list',\n",
    "    'traceback': 'is an error report',\n",
    "    'directory': 'is a collection of files and subdirectories',\n",
    "    'value': 'is the information associated with that variable',\n",
    "    }\n",
    "\n",
    "glossary['string'] = 'is a series of characters'\n",
    "glossary['method'] = 'is an action that Python can perform on a piece of data'\n",
    "glossary['whitespace'] = 'is any nonprinting character, such as spaces, tabs, etc.'\n",
    "glossary['index'] = 'is the position of the element into list'\n",
    "glossary['list comprehension'] = 'is a way to generate a list in one line of code'\n",
    "    \n",
    "\n",
    "for word, definition in glossary.items():\n",
    "    print(f'| A {word} | \\n\\t{definition}')"
   ]
  },
  {
   "cell_type": "code",
   "execution_count": 33,
   "metadata": {},
   "outputs": [
    {
     "name": "stdout",
     "output_type": "stream",
     "text": [
      "Dnipro runs through Ukraine.\n",
      "Nile runs through Egypt.\n",
      "Amazon runs through Brazil.\n",
      "Dnipro\n",
      "Nile\n",
      "Amazon\n",
      "Ukraine\n",
      "Egypt\n",
      "Brazil\n"
     ]
    }
   ],
   "source": [
    "# Exercise 6-5 Rivers\n",
    "\n",
    "rivers = {\n",
    "    'ukraine': 'dnipro',\n",
    "    'egypt': 'nile',\n",
    "    'brazil': 'amazon'\n",
    "    }\n",
    "\n",
    "for country, river in rivers.items():\n",
    "    print(f'{river.capitalize()} runs through {country.capitalize()}.')\n",
    "\n",
    "for river in rivers.values():\n",
    "    print(river.capitalize())\n",
    "\n",
    "for country in rivers.keys():\n",
    "    print(country.capitalize())"
   ]
  },
  {
   "cell_type": "code",
   "execution_count": 35,
   "metadata": {},
   "outputs": [
    {
     "name": "stdout",
     "output_type": "stream",
     "text": [
      "Sarah, thank you for the answer!\n",
      "Paul, please take our poll!\n",
      "Richard, please take our poll!\n",
      "Chadwick, please take our poll!\n",
      "Edward, thank you for the answer!\n"
     ]
    }
   ],
   "source": [
    "# Exercise 6-6 Polling\n",
    "\n",
    "favorite_languages = {\n",
    "    'jen': 'python',\n",
    "    'sarah': 'c',\n",
    "    'edward': 'ruby',\n",
    "    'phil': 'python',\n",
    "    }\n",
    "\n",
    "respondents = ['Sarah', 'paul', 'Richard', 'chadwick', 'Edward']\n",
    "\n",
    "for respondent in respondents:\n",
    "    if respondent.lower() in favorite_languages.keys():\n",
    "        print(f'{respondent.capitalize()}, thank you for the answer!')\n",
    "    else:\n",
    "        print(f'{respondent.capitalize()}, please take our poll!')"
   ]
  },
  {
   "cell_type": "code",
   "execution_count": 36,
   "metadata": {},
   "outputs": [
    {
     "name": "stdout",
     "output_type": "stream",
     "text": [
      "{'name': 'dasha', 'surname': 'reheta', 'age': 24, 'city': 'Kyiv'}\n",
      "{'name': 'yaroslav', 'surname': 'voloschuk', 'age': 32, 'city': 'lviv'}\n",
      "{'name': 'marko', 'surname': 'kovačević', 'age': 26, 'city': 'zagreb'}\n"
     ]
    }
   ],
   "source": [
    "# Exercise 6-7 People\n",
    "\n",
    "person_1 = {\n",
    "    'name': 'dasha',\n",
    "    'surname': 'reheta',\n",
    "    'age': 24,\n",
    "    'city': 'Kyiv'\n",
    "    }\n",
    "\n",
    "person_2 = {\n",
    "    'name': 'yaroslav',\n",
    "    'surname': 'voloschuk',\n",
    "    'age': 32,\n",
    "    'city': 'lviv'\n",
    "    }\n",
    "\n",
    "person_3 = {\n",
    "    'name': 'marko',\n",
    "    'surname': 'kovačević',\n",
    "    'age': 26,\n",
    "    'city': 'zagreb'\n",
    "    }\n",
    "\n",
    "people = [person_1, person_2, person_3]\n",
    "\n",
    "for person in people:\n",
    "    print(person)"
   ]
  },
  {
   "cell_type": "code",
   "execution_count": 59,
   "metadata": {},
   "outputs": [
    {
     "name": "stdout",
     "output_type": "stream",
     "text": [
      "{'kind': 'cat', 'owner': 'dasha'}\n",
      "{'kind': 'dog', 'owner': 'marko'}\n",
      "{'kind': 'rabbit', 'owner': 'ivan'}\n"
     ]
    }
   ],
   "source": [
    "# Exercise 6-8 Pets\n",
    "\n",
    "pet_1 = {\n",
    "    'kind': 'cat',\n",
    "    'owner': 'dasha',\n",
    "    }\n",
    "\n",
    "pet_2 = {\n",
    "    'kind': 'dog',\n",
    "    'owner': 'marko',\n",
    "    }\n",
    "\n",
    "pet_3 = {\n",
    "    'kind': 'rabbit',\n",
    "    'owner': 'ivan',\n",
    "    }\n",
    "\n",
    "pets = [pet_1, pet_2, pet_3]\n",
    "\n",
    "for pet in pets:\n",
    "    print(pet)"
   ]
  },
  {
   "cell_type": "code",
   "execution_count": 74,
   "metadata": {},
   "outputs": [
    {
     "name": "stdout",
     "output_type": "stream",
     "text": [
      "Dasha`s favourite locations are:\n",
      "\tKyiv\n",
      "\tBerdychiv\n",
      "Ivan`s favourite locations are:\n",
      "\tChernivtsi\n",
      "\tLviv\n",
      "Natasha`s favourite location is:\n",
      "\tZagreb\n"
     ]
    }
   ],
   "source": [
    "# Exercise 6-9 Favorite Places\n",
    "\n",
    "favourite_places = {\n",
    "    'dasha': ['kyiv', 'berdychiv',],\n",
    "    'ivan': ['chernivtsi', 'lviv',],\n",
    "    'natasha': ['zagreb', ]\n",
    "    }\n",
    "\n",
    "for name, locations in favourite_places.items():\n",
    "    if len(locations) > 1:\n",
    "        print(f'{name.capitalize()}`s favourite locations are:')\n",
    "    else:\n",
    "        print(f'{name.capitalize()}`s favourite location is:')\n",
    "    for location in locations:\n",
    "        print(f'\\t{location.capitalize()}')"
   ]
  },
  {
   "cell_type": "code",
   "execution_count": 76,
   "metadata": {},
   "outputs": [
    {
     "name": "stdout",
     "output_type": "stream",
     "text": [
      "Dasha does not have a favourite number.\n",
      "Natasha`s favourite numbers are:\n",
      "8\n",
      "4367\n",
      "37\n",
      "21\n",
      "Ivan`s favourite numbers are:\n",
      "69\n",
      "1\n",
      "Dima`s favourite numbers are:\n",
      "124\n",
      "54\n",
      "Marko`s favourite number is\n",
      "1\n"
     ]
    }
   ],
   "source": [
    "# Exercise 6-10 Favourite Numbers\n",
    "\n",
    "favourite_numbers = {\n",
    "    'dasha': [],\n",
    "    'natasha': [8, 4367, 37, 21,],\n",
    "    'ivan': [69, 1,],\n",
    "    'dima': [124, 54],\n",
    "    'marko': [1,]}\n",
    "\n",
    "for name, numbers in favourite_numbers.items():\n",
    "    if len(numbers) < 1:\n",
    "        print(f'{name.capitalize()} does not have a favourite number.')\n",
    "    elif len(numbers) > 1:\n",
    "        print(f'{name.capitalize()}`s favourite numbers are:')\n",
    "    else:\n",
    "        print(f'{name.capitalize()}`s favourite number is')\n",
    "    for number in numbers:\n",
    "        print(f'{number}')"
   ]
  },
  {
   "cell_type": "code",
   "execution_count": 81,
   "metadata": {},
   "outputs": [
    {
     "name": "stdout",
     "output_type": "stream",
     "text": [
      "\tCity:\n",
      "\tKyiv\n",
      "Kyiv is located in Ukraine. Population of the city is 2.96 millions people, while area is 839 km². Kyiv was founded in 482 AD.\n",
      "\tCity:\n",
      "\tZagreb\n",
      "Zagreb is located in Croatia. Population of the city is 0.77 millions people, while area is 641 km². Zagreb has the shortest time for a publictransport vehicle in the world.\n",
      "\tCity:\n",
      "\tEdinburgh\n",
      "Edinburgh is located in Scotland. Population of the city is 0.51 millions people, while area is 264 km². Edinburgh is the greenest city in the UK.\n"
     ]
    }
   ],
   "source": [
    "# Exercise 6-11 Cities\n",
    "\n",
    "cities = {\n",
    "    'kyiv': {\n",
    "        'country': 'ukraine',\n",
    "        'population': 2.96,\n",
    "        'area': 839,\n",
    "        'fact': 'was founded in 482 AD',\n",
    "        },\n",
    "    'zagreb': {\n",
    "        'country': 'croatia',\n",
    "        'population': 0.77,\n",
    "        'area': 641,\n",
    "        'fact': 'has the shortest time for a public' \n",
    "            'transport vehicle in the world',\n",
    "        },\n",
    "    'edinburgh': {\n",
    "        'country': 'scotland',\n",
    "        'population': 0.51,\n",
    "        'area': 264,\n",
    "        'fact': 'is the greenest city in the UK',\n",
    "        }\n",
    "    }\n",
    "\n",
    "for city, city_info in cities.items():\n",
    "    print(f'\\tCity:\\n\\t{city.capitalize()}')\n",
    "    country = city_info['country']\n",
    "    population = city_info['population']\n",
    "    area = city_info['area']\n",
    "    fact = city_info['fact']\n",
    "\n",
    "    print(f'{city.capitalize()} is located in {country.capitalize()}. '\n",
    "        f'Population of the city is {population} millions people, '\n",
    "        f'while area is {area} km\\u00B2. {city.capitalize()} {fact}.')"
   ]
  },
  {
   "cell_type": "code",
   "execution_count": null,
   "metadata": {},
   "outputs": [],
   "source": [
    "# Exercise 6-12 Extensions\n",
    "\n"
   ]
  }
 ],
 "metadata": {
  "kernelspec": {
   "display_name": "Python 3.10.2 64-bit",
   "language": "python",
   "name": "python3"
  },
  "language_info": {
   "codemirror_mode": {
    "name": "ipython",
    "version": 3
   },
   "file_extension": ".py",
   "mimetype": "text/x-python",
   "name": "python",
   "nbconvert_exporter": "python",
   "pygments_lexer": "ipython3",
   "version": "3.10.2"
  },
  "orig_nbformat": 4,
  "vscode": {
   "interpreter": {
    "hash": "aee8b7b246df8f9039afb4144a1f6fd8d2ca17a180786b69acc140d282b71a49"
   }
  }
 },
 "nbformat": 4,
 "nbformat_minor": 2
}
